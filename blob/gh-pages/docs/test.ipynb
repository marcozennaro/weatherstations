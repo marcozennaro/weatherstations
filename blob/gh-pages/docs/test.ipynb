{
 "cells": [
  {
   "cell_type": "markdown",
   "metadata": {},
   "source": [
    "# Interactive data visualizations\n",
    "\n",
    "Using python and the data catalog we can plot the data.\n",
    "\n",
    "Required packages:\n",
    "  1. *siphon* - for the TDS Catalog and remote data access \n",
    "  2. *netCDF4* for accessing encoded date information in the data file\n",
    "  3. *dateutil* for date parsing\n",
    "  4. *bokeh* for plotting"
   ]
  },
  {
   "cell_type": "markdown",
   "metadata": {},
   "source": [
    "First, if running on colab, install the siphon package if missing"
   ]
  },
  {
   "cell_type": "code",
   "execution_count": 247,
   "metadata": {},
   "outputs": [],
   "source": [
    "import os, sys, subprocess\n",
    "if \"google.colab\" in sys.modules:\n",
    "    try:\n",
    "        from siphon.catalog import TDSCatalog\n",
    "    except:\n",
    "        cmd = \"pip install siphon\"\n",
    "        process = subprocess.Popen(cmd.split(), stdout=subprocess.PIPE, stderr=subprocess.PIPE)\n",
    "        stdout, stderr = process.communicate()\n",
    "        from siphon.catalog import TDSCatalog"
   ]
  },
  {
   "cell_type": "markdown",
   "metadata": {},
   "source": [
    "Import required packages:"
   ]
  },
  {
   "cell_type": "code",
   "execution_count": 250,
   "metadata": {},
   "outputs": [],
   "source": [
    "from pprint import pprint\n",
    "import numpy as np\n",
    "from bokeh.plotting import figure, show\n",
    "from bokeh.io import output_notebook\n",
    "from datetime import datetime\n",
    "from dateutil import parser\n",
    "from netCDF4 import Dataset, num2date\n",
    "from siphon.catalog import TDSCatalog"
   ]
  },
  {
   "cell_type": "markdown",
   "metadata": {},
   "source": [
    "The output is on a notebook."
   ]
  },
  {
   "cell_type": "code",
   "execution_count": 251,
   "metadata": {},
   "outputs": [
    {
     "data": {
      "text/html": [
       "\n",
       "    <div class=\"bk-root\">\n",
       "        <a href=\"https://bokeh.org\" target=\"_blank\" class=\"bk-logo bk-logo-small bk-logo-notebook\"></a>\n",
       "        <span id=\"15688\">Loading BokehJS ...</span>\n",
       "    </div>"
      ]
     },
     "metadata": {},
     "output_type": "display_data"
    },
    {
     "data": {
      "application/javascript": [
       "\n",
       "(function(root) {\n",
       "  function now() {\n",
       "    return new Date();\n",
       "  }\n",
       "\n",
       "  const force = true;\n",
       "\n",
       "  if (typeof root._bokeh_onload_callbacks === \"undefined\" || force === true) {\n",
       "    root._bokeh_onload_callbacks = [];\n",
       "    root._bokeh_is_loading = undefined;\n",
       "  }\n",
       "\n",
       "  const JS_MIME_TYPE = 'application/javascript';\n",
       "  const HTML_MIME_TYPE = 'text/html';\n",
       "  const EXEC_MIME_TYPE = 'application/vnd.bokehjs_exec.v0+json';\n",
       "  const CLASS_NAME = 'output_bokeh rendered_html';\n",
       "\n",
       "  /**\n",
       "   * Render data to the DOM node\n",
       "   */\n",
       "  function render(props, node) {\n",
       "    const script = document.createElement(\"script\");\n",
       "    node.appendChild(script);\n",
       "  }\n",
       "\n",
       "  /**\n",
       "   * Handle when an output is cleared or removed\n",
       "   */\n",
       "  function handleClearOutput(event, handle) {\n",
       "    const cell = handle.cell;\n",
       "\n",
       "    const id = cell.output_area._bokeh_element_id;\n",
       "    const server_id = cell.output_area._bokeh_server_id;\n",
       "    // Clean up Bokeh references\n",
       "    if (id != null && id in Bokeh.index) {\n",
       "      Bokeh.index[id].model.document.clear();\n",
       "      delete Bokeh.index[id];\n",
       "    }\n",
       "\n",
       "    if (server_id !== undefined) {\n",
       "      // Clean up Bokeh references\n",
       "      const cmd_clean = \"from bokeh.io.state import curstate; print(curstate().uuid_to_server['\" + server_id + \"'].get_sessions()[0].document.roots[0]._id)\";\n",
       "      cell.notebook.kernel.execute(cmd_clean, {\n",
       "        iopub: {\n",
       "          output: function(msg) {\n",
       "            const id = msg.content.text.trim();\n",
       "            if (id in Bokeh.index) {\n",
       "              Bokeh.index[id].model.document.clear();\n",
       "              delete Bokeh.index[id];\n",
       "            }\n",
       "          }\n",
       "        }\n",
       "      });\n",
       "      // Destroy server and session\n",
       "      const cmd_destroy = \"import bokeh.io.notebook as ion; ion.destroy_server('\" + server_id + \"')\";\n",
       "      cell.notebook.kernel.execute(cmd_destroy);\n",
       "    }\n",
       "  }\n",
       "\n",
       "  /**\n",
       "   * Handle when a new output is added\n",
       "   */\n",
       "  function handleAddOutput(event, handle) {\n",
       "    const output_area = handle.output_area;\n",
       "    const output = handle.output;\n",
       "\n",
       "    // limit handleAddOutput to display_data with EXEC_MIME_TYPE content only\n",
       "    if ((output.output_type != \"display_data\") || (!Object.prototype.hasOwnProperty.call(output.data, EXEC_MIME_TYPE))) {\n",
       "      return\n",
       "    }\n",
       "\n",
       "    const toinsert = output_area.element.find(\".\" + CLASS_NAME.split(' ')[0]);\n",
       "\n",
       "    if (output.metadata[EXEC_MIME_TYPE][\"id\"] !== undefined) {\n",
       "      toinsert[toinsert.length - 1].firstChild.textContent = output.data[JS_MIME_TYPE];\n",
       "      // store reference to embed id on output_area\n",
       "      output_area._bokeh_element_id = output.metadata[EXEC_MIME_TYPE][\"id\"];\n",
       "    }\n",
       "    if (output.metadata[EXEC_MIME_TYPE][\"server_id\"] !== undefined) {\n",
       "      const bk_div = document.createElement(\"div\");\n",
       "      bk_div.innerHTML = output.data[HTML_MIME_TYPE];\n",
       "      const script_attrs = bk_div.children[0].attributes;\n",
       "      for (let i = 0; i < script_attrs.length; i++) {\n",
       "        toinsert[toinsert.length - 1].firstChild.setAttribute(script_attrs[i].name, script_attrs[i].value);\n",
       "        toinsert[toinsert.length - 1].firstChild.textContent = bk_div.children[0].textContent\n",
       "      }\n",
       "      // store reference to server id on output_area\n",
       "      output_area._bokeh_server_id = output.metadata[EXEC_MIME_TYPE][\"server_id\"];\n",
       "    }\n",
       "  }\n",
       "\n",
       "  function register_renderer(events, OutputArea) {\n",
       "\n",
       "    function append_mime(data, metadata, element) {\n",
       "      // create a DOM node to render to\n",
       "      const toinsert = this.create_output_subarea(\n",
       "        metadata,\n",
       "        CLASS_NAME,\n",
       "        EXEC_MIME_TYPE\n",
       "      );\n",
       "      this.keyboard_manager.register_events(toinsert);\n",
       "      // Render to node\n",
       "      const props = {data: data, metadata: metadata[EXEC_MIME_TYPE]};\n",
       "      render(props, toinsert[toinsert.length - 1]);\n",
       "      element.append(toinsert);\n",
       "      return toinsert\n",
       "    }\n",
       "\n",
       "    /* Handle when an output is cleared or removed */\n",
       "    events.on('clear_output.CodeCell', handleClearOutput);\n",
       "    events.on('delete.Cell', handleClearOutput);\n",
       "\n",
       "    /* Handle when a new output is added */\n",
       "    events.on('output_added.OutputArea', handleAddOutput);\n",
       "\n",
       "    /**\n",
       "     * Register the mime type and append_mime function with output_area\n",
       "     */\n",
       "    OutputArea.prototype.register_mime_type(EXEC_MIME_TYPE, append_mime, {\n",
       "      /* Is output safe? */\n",
       "      safe: true,\n",
       "      /* Index of renderer in `output_area.display_order` */\n",
       "      index: 0\n",
       "    });\n",
       "  }\n",
       "\n",
       "  // register the mime type if in Jupyter Notebook environment and previously unregistered\n",
       "  if (root.Jupyter !== undefined) {\n",
       "    const events = require('base/js/events');\n",
       "    const OutputArea = require('notebook/js/outputarea').OutputArea;\n",
       "\n",
       "    if (OutputArea.prototype.mime_types().indexOf(EXEC_MIME_TYPE) == -1) {\n",
       "      register_renderer(events, OutputArea);\n",
       "    }\n",
       "  }\n",
       "\n",
       "  \n",
       "  if (typeof (root._bokeh_timeout) === \"undefined\" || force === true) {\n",
       "    root._bokeh_timeout = Date.now() + 5000;\n",
       "    root._bokeh_failed_load = false;\n",
       "  }\n",
       "\n",
       "  const NB_LOAD_WARNING = {'data': {'text/html':\n",
       "     \"<div style='background-color: #fdd'>\\n\"+\n",
       "     \"<p>\\n\"+\n",
       "     \"BokehJS does not appear to have successfully loaded. If loading BokehJS from CDN, this \\n\"+\n",
       "     \"may be due to a slow or bad network connection. Possible fixes:\\n\"+\n",
       "     \"</p>\\n\"+\n",
       "     \"<ul>\\n\"+\n",
       "     \"<li>re-rerun `output_notebook()` to attempt to load from CDN again, or</li>\\n\"+\n",
       "     \"<li>use INLINE resources instead, as so:</li>\\n\"+\n",
       "     \"</ul>\\n\"+\n",
       "     \"<code>\\n\"+\n",
       "     \"from bokeh.resources import INLINE\\n\"+\n",
       "     \"output_notebook(resources=INLINE)\\n\"+\n",
       "     \"</code>\\n\"+\n",
       "     \"</div>\"}};\n",
       "\n",
       "  function display_loaded() {\n",
       "    const el = document.getElementById(\"15688\");\n",
       "    if (el != null) {\n",
       "      el.textContent = \"BokehJS is loading...\";\n",
       "    }\n",
       "    if (root.Bokeh !== undefined) {\n",
       "      if (el != null) {\n",
       "        el.textContent = \"BokehJS \" + root.Bokeh.version + \" successfully loaded.\";\n",
       "      }\n",
       "    } else if (Date.now() < root._bokeh_timeout) {\n",
       "      setTimeout(display_loaded, 100)\n",
       "    }\n",
       "  }\n",
       "\n",
       "\n",
       "  function run_callbacks() {\n",
       "    try {\n",
       "      root._bokeh_onload_callbacks.forEach(function(callback) {\n",
       "        if (callback != null)\n",
       "          callback();\n",
       "      });\n",
       "    } finally {\n",
       "      delete root._bokeh_onload_callbacks\n",
       "    }\n",
       "    console.debug(\"Bokeh: all callbacks have finished\");\n",
       "  }\n",
       "\n",
       "  function load_libs(css_urls, js_urls, callback) {\n",
       "    if (css_urls == null) css_urls = [];\n",
       "    if (js_urls == null) js_urls = [];\n",
       "\n",
       "    root._bokeh_onload_callbacks.push(callback);\n",
       "    if (root._bokeh_is_loading > 0) {\n",
       "      console.debug(\"Bokeh: BokehJS is being loaded, scheduling callback at\", now());\n",
       "      return null;\n",
       "    }\n",
       "    if (js_urls == null || js_urls.length === 0) {\n",
       "      run_callbacks();\n",
       "      return null;\n",
       "    }\n",
       "    console.debug(\"Bokeh: BokehJS not loaded, scheduling load and callback at\", now());\n",
       "    root._bokeh_is_loading = css_urls.length + js_urls.length;\n",
       "\n",
       "    function on_load() {\n",
       "      root._bokeh_is_loading--;\n",
       "      if (root._bokeh_is_loading === 0) {\n",
       "        console.debug(\"Bokeh: all BokehJS libraries/stylesheets loaded\");\n",
       "        run_callbacks()\n",
       "      }\n",
       "    }\n",
       "\n",
       "    function on_error(url) {\n",
       "      console.error(\"failed to load \" + url);\n",
       "    }\n",
       "\n",
       "    for (let i = 0; i < css_urls.length; i++) {\n",
       "      const url = css_urls[i];\n",
       "      const element = document.createElement(\"link\");\n",
       "      element.onload = on_load;\n",
       "      element.onerror = on_error.bind(null, url);\n",
       "      element.rel = \"stylesheet\";\n",
       "      element.type = \"text/css\";\n",
       "      element.href = url;\n",
       "      console.debug(\"Bokeh: injecting link tag for BokehJS stylesheet: \", url);\n",
       "      document.body.appendChild(element);\n",
       "    }\n",
       "\n",
       "    for (let i = 0; i < js_urls.length; i++) {\n",
       "      const url = js_urls[i];\n",
       "      const element = document.createElement('script');\n",
       "      element.onload = on_load;\n",
       "      element.onerror = on_error.bind(null, url);\n",
       "      element.async = false;\n",
       "      element.src = url;\n",
       "      console.debug(\"Bokeh: injecting script tag for BokehJS library: \", url);\n",
       "      document.head.appendChild(element);\n",
       "    }\n",
       "  };\n",
       "\n",
       "  function inject_raw_css(css) {\n",
       "    const element = document.createElement(\"style\");\n",
       "    element.appendChild(document.createTextNode(css));\n",
       "    document.body.appendChild(element);\n",
       "  }\n",
       "\n",
       "  \n",
       "  const js_urls = [\"https://cdn.bokeh.org/bokeh/release/bokeh-2.4.2.min.js\", \"https://cdn.bokeh.org/bokeh/release/bokeh-gl-2.4.2.min.js\", \"https://cdn.bokeh.org/bokeh/release/bokeh-widgets-2.4.2.min.js\", \"https://cdn.bokeh.org/bokeh/release/bokeh-tables-2.4.2.min.js\", \"https://cdn.bokeh.org/bokeh/release/bokeh-mathjax-2.4.2.min.js\"];\n",
       "  const css_urls = [];\n",
       "  \n",
       "\n",
       "  const inline_js = [\n",
       "    function(Bokeh) {\n",
       "      Bokeh.set_log_level(\"info\");\n",
       "    },\n",
       "    function(Bokeh) {\n",
       "    \n",
       "    \n",
       "    }\n",
       "  ];\n",
       "\n",
       "  function run_inline_js() {\n",
       "    \n",
       "    if (root.Bokeh !== undefined || force === true) {\n",
       "      \n",
       "    for (let i = 0; i < inline_js.length; i++) {\n",
       "      inline_js[i].call(root, root.Bokeh);\n",
       "    }\n",
       "    if (force === true) {\n",
       "        display_loaded();\n",
       "      }} else if (Date.now() < root._bokeh_timeout) {\n",
       "      setTimeout(run_inline_js, 100);\n",
       "    } else if (!root._bokeh_failed_load) {\n",
       "      console.log(\"Bokeh: BokehJS failed to load within specified timeout.\");\n",
       "      root._bokeh_failed_load = true;\n",
       "    } else if (force !== true) {\n",
       "      const cell = $(document.getElementById(\"15688\")).parents('.cell').data().cell;\n",
       "      cell.output_area.append_execute_result(NB_LOAD_WARNING)\n",
       "    }\n",
       "\n",
       "  }\n",
       "\n",
       "  if (root._bokeh_is_loading === 0) {\n",
       "    console.debug(\"Bokeh: BokehJS loaded, going straight to plotting\");\n",
       "    run_inline_js();\n",
       "  } else {\n",
       "    load_libs(css_urls, js_urls, function() {\n",
       "      console.debug(\"Bokeh: BokehJS plotting callback run at\", now());\n",
       "      run_inline_js();\n",
       "    });\n",
       "  }\n",
       "}(window));"
      ],
      "application/vnd.bokehjs_load.v0+json": "\n(function(root) {\n  function now() {\n    return new Date();\n  }\n\n  const force = true;\n\n  if (typeof root._bokeh_onload_callbacks === \"undefined\" || force === true) {\n    root._bokeh_onload_callbacks = [];\n    root._bokeh_is_loading = undefined;\n  }\n\n  \n\n  \n  if (typeof (root._bokeh_timeout) === \"undefined\" || force === true) {\n    root._bokeh_timeout = Date.now() + 5000;\n    root._bokeh_failed_load = false;\n  }\n\n  const NB_LOAD_WARNING = {'data': {'text/html':\n     \"<div style='background-color: #fdd'>\\n\"+\n     \"<p>\\n\"+\n     \"BokehJS does not appear to have successfully loaded. If loading BokehJS from CDN, this \\n\"+\n     \"may be due to a slow or bad network connection. Possible fixes:\\n\"+\n     \"</p>\\n\"+\n     \"<ul>\\n\"+\n     \"<li>re-rerun `output_notebook()` to attempt to load from CDN again, or</li>\\n\"+\n     \"<li>use INLINE resources instead, as so:</li>\\n\"+\n     \"</ul>\\n\"+\n     \"<code>\\n\"+\n     \"from bokeh.resources import INLINE\\n\"+\n     \"output_notebook(resources=INLINE)\\n\"+\n     \"</code>\\n\"+\n     \"</div>\"}};\n\n  function display_loaded() {\n    const el = document.getElementById(\"15688\");\n    if (el != null) {\n      el.textContent = \"BokehJS is loading...\";\n    }\n    if (root.Bokeh !== undefined) {\n      if (el != null) {\n        el.textContent = \"BokehJS \" + root.Bokeh.version + \" successfully loaded.\";\n      }\n    } else if (Date.now() < root._bokeh_timeout) {\n      setTimeout(display_loaded, 100)\n    }\n  }\n\n\n  function run_callbacks() {\n    try {\n      root._bokeh_onload_callbacks.forEach(function(callback) {\n        if (callback != null)\n          callback();\n      });\n    } finally {\n      delete root._bokeh_onload_callbacks\n    }\n    console.debug(\"Bokeh: all callbacks have finished\");\n  }\n\n  function load_libs(css_urls, js_urls, callback) {\n    if (css_urls == null) css_urls = [];\n    if (js_urls == null) js_urls = [];\n\n    root._bokeh_onload_callbacks.push(callback);\n    if (root._bokeh_is_loading > 0) {\n      console.debug(\"Bokeh: BokehJS is being loaded, scheduling callback at\", now());\n      return null;\n    }\n    if (js_urls == null || js_urls.length === 0) {\n      run_callbacks();\n      return null;\n    }\n    console.debug(\"Bokeh: BokehJS not loaded, scheduling load and callback at\", now());\n    root._bokeh_is_loading = css_urls.length + js_urls.length;\n\n    function on_load() {\n      root._bokeh_is_loading--;\n      if (root._bokeh_is_loading === 0) {\n        console.debug(\"Bokeh: all BokehJS libraries/stylesheets loaded\");\n        run_callbacks()\n      }\n    }\n\n    function on_error(url) {\n      console.error(\"failed to load \" + url);\n    }\n\n    for (let i = 0; i < css_urls.length; i++) {\n      const url = css_urls[i];\n      const element = document.createElement(\"link\");\n      element.onload = on_load;\n      element.onerror = on_error.bind(null, url);\n      element.rel = \"stylesheet\";\n      element.type = \"text/css\";\n      element.href = url;\n      console.debug(\"Bokeh: injecting link tag for BokehJS stylesheet: \", url);\n      document.body.appendChild(element);\n    }\n\n    for (let i = 0; i < js_urls.length; i++) {\n      const url = js_urls[i];\n      const element = document.createElement('script');\n      element.onload = on_load;\n      element.onerror = on_error.bind(null, url);\n      element.async = false;\n      element.src = url;\n      console.debug(\"Bokeh: injecting script tag for BokehJS library: \", url);\n      document.head.appendChild(element);\n    }\n  };\n\n  function inject_raw_css(css) {\n    const element = document.createElement(\"style\");\n    element.appendChild(document.createTextNode(css));\n    document.body.appendChild(element);\n  }\n\n  \n  const js_urls = [\"https://cdn.bokeh.org/bokeh/release/bokeh-2.4.2.min.js\", \"https://cdn.bokeh.org/bokeh/release/bokeh-gl-2.4.2.min.js\", \"https://cdn.bokeh.org/bokeh/release/bokeh-widgets-2.4.2.min.js\", \"https://cdn.bokeh.org/bokeh/release/bokeh-tables-2.4.2.min.js\", \"https://cdn.bokeh.org/bokeh/release/bokeh-mathjax-2.4.2.min.js\"];\n  const css_urls = [];\n  \n\n  const inline_js = [\n    function(Bokeh) {\n      Bokeh.set_log_level(\"info\");\n    },\n    function(Bokeh) {\n    \n    \n    }\n  ];\n\n  function run_inline_js() {\n    \n    if (root.Bokeh !== undefined || force === true) {\n      \n    for (let i = 0; i < inline_js.length; i++) {\n      inline_js[i].call(root, root.Bokeh);\n    }\n    if (force === true) {\n        display_loaded();\n      }} else if (Date.now() < root._bokeh_timeout) {\n      setTimeout(run_inline_js, 100);\n    } else if (!root._bokeh_failed_load) {\n      console.log(\"Bokeh: BokehJS failed to load within specified timeout.\");\n      root._bokeh_failed_load = true;\n    } else if (force !== true) {\n      const cell = $(document.getElementById(\"15688\")).parents('.cell').data().cell;\n      cell.output_area.append_execute_result(NB_LOAD_WARNING)\n    }\n\n  }\n\n  if (root._bokeh_is_loading === 0) {\n    console.debug(\"Bokeh: BokehJS loaded, going straight to plotting\");\n    run_inline_js();\n  } else {\n    load_libs(css_urls, js_urls, function() {\n      console.debug(\"Bokeh: BokehJS plotting callback run at\", now());\n      run_inline_js();\n    });\n  }\n}(window));"
     },
     "metadata": {},
     "output_type": "display_data"
    }
   ],
   "source": [
    "output_notebook()"
   ]
  },
  {
   "cell_type": "markdown",
   "metadata": {},
   "source": [
    "Useful lambda function:"
   ]
  },
  {
   "cell_type": "code",
   "execution_count": 252,
   "metadata": {},
   "outputs": [],
   "source": [
    "dt_time = lambda x : parser.parse(str(x))"
   ]
  },
  {
   "cell_type": "markdown",
   "metadata": {},
   "source": [
    "Access the data catalog on the server and retrieve the list of the dataset files:"
   ]
  },
  {
   "cell_type": "code",
   "execution_count": 253,
   "metadata": {},
   "outputs": [
    {
     "name": "stdout",
     "output_type": "stream",
     "text": [
      "['fluveswatersensors-0001_unesco-07_2022-02-16.nc',\n",
      " 'fluveswatersensors-0001_unesco-07_2022-02-17.nc',\n",
      " 'fluveswatersensors-0001_unesco-07_2022-02-18.nc',\n",
      " 'fluveswatersensors-0001_unesco-07_2022-03-24.nc',\n",
      " 'meteowindiotpro-0001_meteowind-iot-02_2022-02-16.nc',\n",
      " 'meteowindiotpro-0001_meteowind-iot-02_2022-02-17.nc',\n",
      " 'meteowindiotpro-0001_meteowind-iot-02_2022-02-18.nc',\n",
      " 'meteowindiotpro-0001_meteowind-iot-02_2022-03-23.nc',\n",
      " 'meteowindiotpro-0001_meteowind-iot-02_2022-03-24.nc',\n",
      " 'weatherstation-0001_helix-06_2022-02-16.nc',\n",
      " 'weatherstation-0001_helix-06_2022-02-17.nc',\n",
      " 'weatherstation-0001_helix-06_2022-02-18.nc',\n",
      " 'weatherstation-0001_helix-06_2022-03-23.nc',\n",
      " 'weatherstation-0001_helix-06_2022-03-24.nc',\n",
      " 'weatherstation-0001_helix-06_2022-03-25.nc',\n",
      " 'weatherstation-0001_helix-07_2022-02-16.nc',\n",
      " 'weatherstation-0001_helix-07_2022-02-17.nc',\n",
      " 'weatherstation-0001_helix-07_2022-02-18.nc',\n",
      " 'weatherstation-0001_helix-07_2022-03-23.nc',\n",
      " 'weatherstation-0001_helix-07_2022-03-24.nc',\n",
      " 'weatherstation-0001_helix-07_2022-03-25.nc',\n",
      " 'weatherstation-0001_helix-09_2022-02-16.nc',\n",
      " 'weatherstation-0001_helix-09_2022-02-17.nc',\n",
      " 'weatherstation-0001_helix-09_2022-02-18.nc',\n",
      " 'weatherstation-0001_helix-09_2022-03-23.nc',\n",
      " 'weatherstation-0001_helix-09_2022-03-24.nc',\n",
      " 'weatherstation-0001_helix-09_2022-03-25.nc']\n"
     ]
    }
   ],
   "source": [
    "catUrl = \"http://140.105.45.139/thredds/catalog/testAll/catalog.xml\";\n",
    "catalog = TDSCatalog(catUrl)\n",
    "filenames = list(catalog.datasets)\n",
    "pprint(filenames)"
   ]
  },
  {
   "cell_type": "markdown",
   "metadata": {},
   "source": [
    "Create the plot:"
   ]
  },
  {
   "cell_type": "code",
   "execution_count": 263,
   "metadata": {},
   "outputs": [],
   "source": [
    "plt = figure(x_axis_type=\"datetime\", width=800)"
   ]
  },
  {
   "cell_type": "markdown",
   "metadata": {},
   "source": [
    "This function will open one of the files and return the handle and the list of plottable variables:"
   ]
  },
  {
   "cell_type": "code",
   "execution_count": 264,
   "metadata": {},
   "outputs": [],
   "source": [
    "def access(filename):\n",
    "    remote = catalog.datasets[filename]\n",
    "    ds = Dataset(remote.access_urls['OpenDAP'])\n",
    "    info = type('', (), {})()\n",
    "    info.dev = ds.Device\n",
    "    info.lat = f'{ds.Sensor_Latitude:.3f}'\n",
    "    info.lon = f'{ds.Sensor_Longitude:.3f}'\n",
    "    info.hgt = f'{ds.Sensor_Altitude:.1f}'\n",
    "    time = ds.variables['time']\n",
    "    info.date = [dt_time(x) for x in\n",
    "           num2date(time[:],units=time.units,calendar=time.calendar)]    \n",
    "    plottable = list(x for x in ds.variables if 'time' in ds.variables[x].dimensions)\n",
    "    plottable = list(x for x in plottable if 'time' not in x)\n",
    "    displaynames = list(ds.variables[x].long_name for x in plottable)\n",
    "    selectable = dict(zip(displaynames,plottable))\n",
    "    return (ds,info,selectable)"
   ]
  },
  {
   "cell_type": "markdown",
   "metadata": {},
   "source": [
    "Let us now use our access method to retrieve the dataset and the list of plottable variables accessing the latest file of the list of the 'weatherstation' for the 'helix-09' station:"
   ]
  },
  {
   "cell_type": "code",
   "execution_count": 265,
   "metadata": {},
   "outputs": [],
   "source": [
    "last_helix = list(x for x in filenames if 'weatherstation' in x and 'helix-07' in x)\n",
    "ds, info, selectable = access(last_helix[-1])"
   ]
  },
  {
   "cell_type": "markdown",
   "metadata": {},
   "source": [
    "Let us examine the list of plottable variables:"
   ]
  },
  {
   "cell_type": "code",
   "execution_count": 266,
   "metadata": {},
   "outputs": [
    {
     "name": "stdout",
     "output_type": "stream",
     "text": [
      "['Maximum Total Solar Irradiance',\n",
      " 'Maximum temperature',\n",
      " 'Min time between rain gauge clicks',\n",
      " 'Minimum temperature',\n",
      " 'Pressure',\n",
      " 'Rain',\n",
      " 'Relative Humidity',\n",
      " 'Temperature',\n",
      " 'Total Solar Irradiance']\n"
     ]
    }
   ],
   "source": [
    "pprint(sorted(selectable))"
   ]
  },
  {
   "cell_type": "markdown",
   "metadata": {},
   "source": [
    "And the retrieved station informations:"
   ]
  },
  {
   "cell_type": "code",
   "execution_count": 267,
   "metadata": {},
   "outputs": [
    {
     "name": "stdout",
     "output_type": "stream",
     "text": [
      "Device =  helix-07\n",
      "Latitude =  45.703\n",
      "Longitude =  13.721\n",
      "Elevation =  80.0\n"
     ]
    }
   ],
   "source": [
    "print('Device = ', info.dev)\n",
    "print('Latitude = ', info.lat)\n",
    "print('Longitude = ', info.lon)\n",
    "print('Elevation = ', info.hgt)"
   ]
  },
  {
   "cell_type": "markdown",
   "metadata": {},
   "source": [
    "Let us select the 'Temperature' variable and obtain the data:"
   ]
  },
  {
   "cell_type": "code",
   "execution_count": 268,
   "metadata": {},
   "outputs": [],
   "source": [
    "var = ds.variables[selectable['Temperature']]\n",
    "info.varname = var.long_name\n",
    "info.varunit = var.units\n",
    "info.data = var[:]"
   ]
  },
  {
   "cell_type": "markdown",
   "metadata": {},
   "source": [
    "Here the plotter funtion:"
   ]
  },
  {
   "cell_type": "code",
   "execution_count": 269,
   "metadata": {},
   "outputs": [],
   "source": [
    "def plotter(plt,info):\n",
    "    plt.line(info.date,info.data,legend_label = info.varname)\n",
    "    plt.title.text = ( info.dev + ' ' + info.varname + ' [' +\n",
    "                       info.varunit + ']\\n' +\n",
    "                      '[lat: '+ info.lat + ', lon: ' + info.lon +\n",
    "                       ', elv: ' + info.hgt + ']' )\n",
    "    plt.xaxis.axis_label = 'Time'\n",
    "    plt.yaxis.axis_label = info.varname + ' [' + info.varunit + ']'\n",
    "    plt.axis.axis_label_text_font_style = \"bold\"\n",
    "    return plt"
   ]
  },
  {
   "cell_type": "markdown",
   "metadata": {},
   "source": [
    "And the plot:"
   ]
  },
  {
   "cell_type": "code",
   "execution_count": 272,
   "metadata": {},
   "outputs": [
    {
     "data": {
      "text/html": [
       "\n",
       "\n",
       "\n",
       "\n",
       "\n",
       "\n",
       "  <div class=\"bk-root\" id=\"60f69f9e-0088-47a9-ade7-2c8b0490567e\" data-root-id=\"16432\"></div>\n"
      ]
     },
     "metadata": {},
     "output_type": "display_data"
    },
    {
     "data": {
      "application/javascript": [
       "(function(root) {\n",
       "  function embed_document(root) {\n",
       "    \n",
       "  const docs_json = {\"c2212e9c-10d3-4023-a4c1-11162762e092\":{\"defs\":[],\"roots\":{\"references\":[{\"attributes\":{\"below\":[{\"id\":\"16441\"}],\"center\":[{\"id\":\"16444\"},{\"id\":\"16448\"},{\"id\":\"16492\"}],\"left\":[{\"id\":\"16445\"}],\"renderers\":[{\"id\":\"16467\"},{\"id\":\"17202\"}],\"title\":{\"id\":\"16469\"},\"toolbar\":{\"id\":\"16456\"},\"width\":800,\"x_range\":{\"id\":\"16433\"},\"x_scale\":{\"id\":\"16437\"},\"y_range\":{\"id\":\"16435\"},\"y_scale\":{\"id\":\"16439\"}},\"id\":\"16432\",\"subtype\":\"Figure\",\"type\":\"Plot\"},{\"attributes\":{},\"id\":\"16435\",\"type\":\"DataRange1d\"},{\"attributes\":{\"coordinates\":null,\"data_source\":{\"id\":\"16463\"},\"glyph\":{\"id\":\"16464\"},\"group\":null,\"hover_glyph\":null,\"muted_glyph\":{\"id\":\"16466\"},\"nonselection_glyph\":{\"id\":\"16465\"},\"view\":{\"id\":\"16468\"}},\"id\":\"16467\",\"type\":\"GlyphRenderer\"},{\"attributes\":{\"line_color\":\"#1f77b4\",\"x\":{\"field\":\"x\"},\"y\":{\"field\":\"y\"}},\"id\":\"17199\",\"type\":\"Line\"},{\"attributes\":{},\"id\":\"17778\",\"type\":\"UnionRenderers\"},{\"attributes\":{},\"id\":\"16449\",\"type\":\"PanTool\"},{\"attributes\":{\"axis_label\":\"Time\",\"axis_label_text_font_style\":\"bold\",\"coordinates\":null,\"formatter\":{\"id\":\"16475\"},\"group\":null,\"major_label_policy\":{\"id\":\"16476\"},\"ticker\":{\"id\":\"16442\"}},\"id\":\"16441\",\"type\":\"DatetimeAxis\"},{\"attributes\":{\"line_alpha\":0.1,\"line_color\":\"#1f77b4\",\"x\":{\"field\":\"x\"},\"y\":{\"field\":\"y\"}},\"id\":\"17200\",\"type\":\"Line\"},{\"attributes\":{},\"id\":\"16450\",\"type\":\"WheelZoomTool\"},{\"attributes\":{},\"id\":\"16446\",\"type\":\"BasicTicker\"},{\"attributes\":{\"days\":[1,15]},\"id\":\"16486\",\"type\":\"DaysTicker\"},{\"attributes\":{\"days\":[1,2,3,4,5,6,7,8,9,10,11,12,13,14,15,16,17,18,19,20,21,22,23,24,25,26,27,28,29,30,31]},\"id\":\"16483\",\"type\":\"DaysTicker\"},{\"attributes\":{},\"id\":\"16472\",\"type\":\"BasicTickFormatter\"},{\"attributes\":{\"days\":[1,4,7,10,13,16,19,22,25,28]},\"id\":\"16484\",\"type\":\"DaysTicker\"},{\"attributes\":{\"overlay\":{\"id\":\"16455\"}},\"id\":\"16451\",\"type\":\"BoxZoomTool\"},{\"attributes\":{},\"id\":\"16452\",\"type\":\"SaveTool\"},{\"attributes\":{},\"id\":\"16478\",\"type\":\"Selection\"},{\"attributes\":{},\"id\":\"16475\",\"type\":\"DatetimeTickFormatter\"},{\"attributes\":{\"axis\":{\"id\":\"16441\"},\"coordinates\":null,\"group\":null,\"ticker\":null},\"id\":\"16444\",\"type\":\"Grid\"},{\"attributes\":{},\"id\":\"16491\",\"type\":\"YearsTicker\"},{\"attributes\":{\"mantissas\":[1,2,5],\"max_interval\":500.0,\"num_minor_ticks\":0},\"id\":\"16480\",\"type\":\"AdaptiveTicker\"},{\"attributes\":{},\"id\":\"16437\",\"type\":\"LinearScale\"},{\"attributes\":{\"coordinates\":null,\"group\":null,\"text\":\"helix-07 Temperature [K]\\n[lat: 45.703, lon: 13.721, elv: 80.0]\"},\"id\":\"16469\",\"type\":\"Title\"},{\"attributes\":{\"base\":24,\"mantissas\":[1,2,4,6,8,12],\"max_interval\":43200000.0,\"min_interval\":3600000.0,\"num_minor_ticks\":0},\"id\":\"16482\",\"type\":\"AdaptiveTicker\"},{\"attributes\":{\"line_color\":\"#1f77b4\",\"x\":{\"field\":\"x\"},\"y\":{\"field\":\"y\"}},\"id\":\"16464\",\"type\":\"Line\"},{\"attributes\":{},\"id\":\"16453\",\"type\":\"ResetTool\"},{\"attributes\":{},\"id\":\"16477\",\"type\":\"UnionRenderers\"},{\"attributes\":{\"months\":[0,4,8]},\"id\":\"16489\",\"type\":\"MonthsTicker\"},{\"attributes\":{},\"id\":\"16473\",\"type\":\"AllLabels\"},{\"attributes\":{},\"id\":\"16433\",\"type\":\"DataRange1d\"},{\"attributes\":{},\"id\":\"16476\",\"type\":\"AllLabels\"},{\"attributes\":{\"months\":[0,2,4,6,8,10]},\"id\":\"16488\",\"type\":\"MonthsTicker\"},{\"attributes\":{\"months\":[0,6]},\"id\":\"16490\",\"type\":\"MonthsTicker\"},{\"attributes\":{\"axis_label\":\"Temperature [K]\",\"axis_label_text_font_style\":\"bold\",\"coordinates\":null,\"formatter\":{\"id\":\"16472\"},\"group\":null,\"major_label_policy\":{\"id\":\"16473\"},\"ticker\":{\"id\":\"16446\"}},\"id\":\"16445\",\"type\":\"LinearAxis\"},{\"attributes\":{\"data\":{\"x\":[1648166795000.0,1648167395000.0,1648167995000.0,1648168595000.0,1648169195000.0,1648169795000.0,1648170395000.0,1648170995000.0,1648171595000.0,1648172195000.0,1648172795000.0,1648173395000.0,1648173995000.0,1648174595000.0,1648175195000.0,1648175795000.0,1648176395000.0,1648176995000.0,1648177595000.0,1648178195000.0,1648178795000.0,1648179395000.0,1648179995000.0,1648180595000.0,1648181195000.0,1648181795000.0,1648182395000.0,1648182995000.0,1648183595000.0,1648184195000.0,1648184795000.0,1648185395000.0,1648185995000.0,1648186595000.0,1648187196000.0,1648187796000.0,1648188396000.0,1648188996000.0,1648189596000.0,1648190196000.0,1648190796000.0,1648191396000.0,1648191996000.0,1648192596000.0,1648193196000.0,1648193796000.0,1648194396000.0,1648194996000.0,1648195596000.0,1648196196000.0,1648196796000.0,1648197396000.0,1648197996000.0,1648198596000.0,1648199196000.0,1648199796000.0,1648200396000.0,1648200996000.0,1648201596000.0,1648202196000.0,1648202796000.0,1648203396000.0,1648203996000.0,1648204596000.0,1648205196000.0,1648205796000.0,1648206396000.0,1648206996000.0,1648207596000.0,1648208196000.0,1648208796000.0,1648209396000.0,1648209996000.0,1648210596000.0,1648211196000.0,1648211796000.0,1648212396000.0,1648212996000.0,1648213596000.0,1648214196000.0,1648214796000.0,1648215396000.0,1648215996000.0,1648216596000.0,1648217196000.0,1648217796000.0,1648218396000.0],\"y\":{\"__ndarray__\":\"AAAAAACscUAAAAAAAKxxQMzMzMzMsHFAmZmZmZmtcUDMzMzMzKhxQJmZmZmZpXFAZmZmZmaqcUBmZmZmZqpxQMzMzMzMqHFAMzMzMzOncUAzMzMzM6dxQAAAAAAApHFAmZmZmZmdcUAzMzMzM6dxQAAAAAAAtHFAmZmZmZmdcUAzMzMzM59xQMzMzMzMoHFAAAAAAACccUAAAAAAAJxxQDMzMzMzl3FAAAAAAACccUAzMzMzM6dxQMzMzMzMqHFAAAAAAACkcUAzMzMzM6dxQGZmZmZmqnFAzMzMzMy4cUAAAAAAAMRxQDMzMzMzx3FAmZmZmZm9cUAAAAAAALxxQJmZmZmZtXFAMzMzMzO3cUBmZmZmZrpxQAAAAAAAvHFAZmZmZmbCcUCZmZmZmcVxQJmZmZmZzXFAZmZmZmbScUDMzMzMzNhxQAAAAAAA3HFAAAAAAADMcUAAAAAAAMxxQJmZmZmZzXFAMzMzMzPXcUAAAAAAANxxQAAAAAAA5HFAZmZmZmbicUBmZmZmZuJxQGZmZmZm6nFAMzMzMzPvcUBmZmZmZvpxQAAAAAAABHJAmZmZmZkFckDMzMzMzAByQAAAAAAABHJAAAAAAAAEckAAAAAAAARyQGZmZmZmAnJAmZmZmZkFckBmZmZmZgpyQJmZmZmZDXJAZmZmZmYKckBmZmZmZgpyQDMzMzMzD3JAmZmZmZkNckAAAAAAAAxyQJmZmZmZDXJAZmZmZmYCckAzMzMzM/9xQMzMzMzMAHJAMzMzMzMHckCZmZmZmRVyQDMzMzMzF3JAAAAAAAAcckCZmZmZmR1yQAAAAAAAFHJAAAAAAAAMckAAAAAAABRyQAAAAAAAFHJAAAAAAAAcckAzMzMzMydyQDMzMzMzH3JAmZmZmZklckCZmZmZmSVyQGZmZmZmKnJA\",\"dtype\":\"float64\",\"order\":\"little\",\"shape\":[87]}},\"selected\":{\"id\":\"17779\"},\"selection_policy\":{\"id\":\"17778\"}},\"id\":\"17198\",\"type\":\"ColumnDataSource\"},{\"attributes\":{},\"id\":\"17779\",\"type\":\"Selection\"},{\"attributes\":{\"bottom_units\":\"screen\",\"coordinates\":null,\"fill_alpha\":0.5,\"fill_color\":\"lightgrey\",\"group\":null,\"left_units\":\"screen\",\"level\":\"overlay\",\"line_alpha\":1.0,\"line_color\":\"black\",\"line_dash\":[4,4],\"line_width\":2,\"right_units\":\"screen\",\"syncable\":false,\"top_units\":\"screen\"},\"id\":\"16455\",\"type\":\"BoxAnnotation\"},{\"attributes\":{\"data\":{\"x\":[1648166795000.0,1648167395000.0,1648167995000.0,1648168595000.0,1648169195000.0,1648169795000.0,1648170395000.0,1648170995000.0,1648171595000.0,1648172195000.0,1648172795000.0,1648173395000.0,1648173995000.0,1648174595000.0,1648175195000.0,1648175795000.0,1648176395000.0,1648176995000.0,1648177595000.0,1648178195000.0,1648178795000.0,1648179395000.0,1648179995000.0,1648180595000.0,1648181195000.0,1648181795000.0,1648182395000.0,1648182995000.0,1648183595000.0,1648184195000.0,1648184795000.0,1648185395000.0,1648185995000.0,1648186595000.0,1648187196000.0,1648187796000.0,1648188396000.0,1648188996000.0,1648189596000.0,1648190196000.0,1648190796000.0,1648191396000.0,1648191996000.0,1648192596000.0,1648193196000.0,1648193796000.0,1648194396000.0,1648194996000.0,1648195596000.0,1648196196000.0,1648196796000.0,1648197396000.0,1648197996000.0,1648198596000.0,1648199196000.0,1648199796000.0,1648200396000.0,1648200996000.0,1648201596000.0,1648202196000.0,1648202796000.0,1648203396000.0,1648203996000.0,1648204596000.0,1648205196000.0,1648205796000.0,1648206396000.0,1648206996000.0,1648207596000.0,1648208196000.0,1648208796000.0,1648209396000.0,1648209996000.0,1648210596000.0,1648211196000.0,1648211796000.0,1648212396000.0,1648212996000.0,1648213596000.0,1648214196000.0,1648214796000.0,1648215396000.0,1648215996000.0,1648216596000.0,1648217196000.0,1648217796000.0,1648218396000.0],\"y\":{\"__ndarray__\":\"AAAAAACscUAAAAAAAKxxQMzMzMzMsHFAmZmZmZmtcUDMzMzMzKhxQJmZmZmZpXFAZmZmZmaqcUBmZmZmZqpxQMzMzMzMqHFAMzMzMzOncUAzMzMzM6dxQAAAAAAApHFAmZmZmZmdcUAzMzMzM6dxQAAAAAAAtHFAmZmZmZmdcUAzMzMzM59xQMzMzMzMoHFAAAAAAACccUAAAAAAAJxxQDMzMzMzl3FAAAAAAACccUAzMzMzM6dxQMzMzMzMqHFAAAAAAACkcUAzMzMzM6dxQGZmZmZmqnFAzMzMzMy4cUAAAAAAAMRxQDMzMzMzx3FAmZmZmZm9cUAAAAAAALxxQJmZmZmZtXFAMzMzMzO3cUBmZmZmZrpxQAAAAAAAvHFAZmZmZmbCcUCZmZmZmcVxQJmZmZmZzXFAZmZmZmbScUDMzMzMzNhxQAAAAAAA3HFAAAAAAADMcUAAAAAAAMxxQJmZmZmZzXFAMzMzMzPXcUAAAAAAANxxQAAAAAAA5HFAZmZmZmbicUBmZmZmZuJxQGZmZmZm6nFAMzMzMzPvcUBmZmZmZvpxQAAAAAAABHJAmZmZmZkFckDMzMzMzAByQAAAAAAABHJAAAAAAAAEckAAAAAAAARyQGZmZmZmAnJAmZmZmZkFckBmZmZmZgpyQJmZmZmZDXJAZmZmZmYKckBmZmZmZgpyQDMzMzMzD3JAmZmZmZkNckAAAAAAAAxyQJmZmZmZDXJAZmZmZmYCckAzMzMzM/9xQMzMzMzMAHJAMzMzMzMHckCZmZmZmRVyQDMzMzMzF3JAAAAAAAAcckCZmZmZmR1yQAAAAAAAFHJAAAAAAAAMckAAAAAAABRyQAAAAAAAFHJAAAAAAAAcckAzMzMzMydyQDMzMzMzH3JAmZmZmZklckCZmZmZmSVyQGZmZmZmKnJA\",\"dtype\":\"float64\",\"order\":\"little\",\"shape\":[87]}},\"selected\":{\"id\":\"16478\"},\"selection_policy\":{\"id\":\"16477\"}},\"id\":\"16463\",\"type\":\"ColumnDataSource\"},{\"attributes\":{\"coordinates\":null,\"group\":null,\"items\":[{\"id\":\"16493\"}]},\"id\":\"16492\",\"type\":\"Legend\"},{\"attributes\":{\"source\":{\"id\":\"17198\"}},\"id\":\"17203\",\"type\":\"CDSView\"},{\"attributes\":{\"tools\":[{\"id\":\"16449\"},{\"id\":\"16450\"},{\"id\":\"16451\"},{\"id\":\"16452\"},{\"id\":\"16453\"},{\"id\":\"16454\"}]},\"id\":\"16456\",\"type\":\"Toolbar\"},{\"attributes\":{\"line_alpha\":0.2,\"line_color\":\"#1f77b4\",\"x\":{\"field\":\"x\"},\"y\":{\"field\":\"y\"}},\"id\":\"17201\",\"type\":\"Line\"},{\"attributes\":{},\"id\":\"16439\",\"type\":\"LinearScale\"},{\"attributes\":{\"axis\":{\"id\":\"16445\"},\"coordinates\":null,\"dimension\":1,\"group\":null,\"ticker\":null},\"id\":\"16448\",\"type\":\"Grid\"},{\"attributes\":{\"months\":[0,1,2,3,4,5,6,7,8,9,10,11]},\"id\":\"16487\",\"type\":\"MonthsTicker\"},{\"attributes\":{\"source\":{\"id\":\"16463\"}},\"id\":\"16468\",\"type\":\"CDSView\"},{\"attributes\":{\"coordinates\":null,\"data_source\":{\"id\":\"17198\"},\"glyph\":{\"id\":\"17199\"},\"group\":null,\"hover_glyph\":null,\"muted_glyph\":{\"id\":\"17201\"},\"nonselection_glyph\":{\"id\":\"17200\"},\"view\":{\"id\":\"17203\"}},\"id\":\"17202\",\"type\":\"GlyphRenderer\"},{\"attributes\":{\"num_minor_ticks\":5,\"tickers\":[{\"id\":\"16480\"},{\"id\":\"16481\"},{\"id\":\"16482\"},{\"id\":\"16483\"},{\"id\":\"16484\"},{\"id\":\"16485\"},{\"id\":\"16486\"},{\"id\":\"16487\"},{\"id\":\"16488\"},{\"id\":\"16489\"},{\"id\":\"16490\"},{\"id\":\"16491\"}]},\"id\":\"16442\",\"type\":\"DatetimeTicker\"},{\"attributes\":{\"label\":{\"value\":\"Temperature\"},\"renderers\":[{\"id\":\"16467\"},{\"id\":\"17202\"}]},\"id\":\"16493\",\"type\":\"LegendItem\"},{\"attributes\":{\"line_alpha\":0.2,\"line_color\":\"#1f77b4\",\"x\":{\"field\":\"x\"},\"y\":{\"field\":\"y\"}},\"id\":\"16466\",\"type\":\"Line\"},{\"attributes\":{\"days\":[1,8,15,22]},\"id\":\"16485\",\"type\":\"DaysTicker\"},{\"attributes\":{\"base\":60,\"mantissas\":[1,2,5,10,15,20,30],\"max_interval\":1800000.0,\"min_interval\":1000.0,\"num_minor_ticks\":0},\"id\":\"16481\",\"type\":\"AdaptiveTicker\"},{\"attributes\":{},\"id\":\"16454\",\"type\":\"HelpTool\"},{\"attributes\":{\"line_alpha\":0.1,\"line_color\":\"#1f77b4\",\"x\":{\"field\":\"x\"},\"y\":{\"field\":\"y\"}},\"id\":\"16465\",\"type\":\"Line\"}],\"root_ids\":[\"16432\"]},\"title\":\"Bokeh Application\",\"version\":\"2.4.2\"}};\n",
       "  const render_items = [{\"docid\":\"c2212e9c-10d3-4023-a4c1-11162762e092\",\"notebook_comms_target\":\"18408\",\"root_ids\":[\"16432\"],\"roots\":{\"16432\":\"60f69f9e-0088-47a9-ade7-2c8b0490567e\"}}];\n",
       "  root.Bokeh.embed.embed_items_notebook(docs_json, render_items);\n",
       "\n",
       "  }\n",
       "  if (root.Bokeh !== undefined) {\n",
       "    embed_document(root);\n",
       "  } else {\n",
       "    let attempts = 0;\n",
       "    const timer = setInterval(function(root) {\n",
       "      if (root.Bokeh !== undefined) {\n",
       "        clearInterval(timer);\n",
       "        embed_document(root);\n",
       "      } else {\n",
       "        attempts++;\n",
       "        if (attempts > 100) {\n",
       "          clearInterval(timer);\n",
       "          console.log(\"Bokeh: ERROR: Unable to run BokehJS code because BokehJS library is missing\");\n",
       "        }\n",
       "      }\n",
       "    }, 10, root)\n",
       "  }\n",
       "})(window);"
      ],
      "application/vnd.bokehjs_exec.v0+json": ""
     },
     "metadata": {
      "application/vnd.bokehjs_exec.v0+json": {
       "id": "16432"
      }
     },
     "output_type": "display_data"
    },
    {
     "data": {
      "text/html": [
       "<p><code>&lt;Bokeh Notebook handle for <strong>In[272]</strong>&gt;</code></p>"
      ],
      "text/plain": [
       "<bokeh.io.notebook.CommsHandle at 0x7fec6d3d8700>"
      ]
     },
     "execution_count": 272,
     "metadata": {},
     "output_type": "execute_result"
    }
   ],
   "source": [
    "plt = plotter(plt,info)\n",
    "show(plt,notebook_handle=True)"
   ]
  },
  {
   "cell_type": "code",
   "execution_count": null,
   "metadata": {},
   "outputs": [],
   "source": []
  }
 ],
 "metadata": {
  "kernelspec": {
   "display_name": "Python 3 (ipykernel)",
   "language": "python",
   "name": "python3"
  },
  "language_info": {
   "codemirror_mode": {
    "name": "ipython",
    "version": 3
   },
   "file_extension": ".py",
   "mimetype": "text/x-python",
   "name": "python",
   "nbconvert_exporter": "python",
   "pygments_lexer": "ipython3",
   "version": "3.10.2"
  }
 },
 "nbformat": 4,
 "nbformat_minor": 4
}
